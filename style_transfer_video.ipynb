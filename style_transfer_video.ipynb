{
 "cells": [
  {
   "cell_type": "code",
   "execution_count": null,
   "metadata": {},
   "outputs": [],
   "source": [
    "import numpy as np\n",
    "import matplotlib.pyplot as plt\n",
    "import cv2\n",
    "\n",
    "from keras.layers import Conv2D, Input, Layer, Subtract, Lambda\n",
    "from keras.models import Model, Sequential\n",
    "from keras.preprocessing import image\n",
    "from keras.applications import vgg19\n",
    "from keras.optimizers import Adam\n",
    "\n",
    "%matplotlib inline"
   ]
  },
  {
   "cell_type": "code",
   "execution_count": null,
   "metadata": {},
   "outputs": [],
   "source": [
    "plt.rcParams['figure.figsize'] = (15, 6)"
   ]
  },
  {
   "cell_type": "code",
   "execution_count": null,
   "metadata": {},
   "outputs": [],
   "source": [
    "from keras import backend as K\n",
    "from keras.layers import Layer\n",
    "\n",
    "class WeightsIdentity(Layer):\n",
    "\n",
    "    def __init__(self, kernel_initializer='glorot_uniform', kernel_constraint=None, **kwargs):\n",
    "        super().__init__(**kwargs)\n",
    "        self.kernel_initializer = kernel_initializer\n",
    "        self.kernel_constraint = kernel_constraint\n",
    "\n",
    "    def build(self, input_shape):\n",
    "        self.kernel = self.add_weight(name='kernel', \n",
    "                                      shape=input_shape[1:],\n",
    "                                      initializer=self.kernel_initializer,\n",
    "                                      constraint=self.kernel_constraint,\n",
    "                                      trainable=True)\n",
    "        super().build(input_shape)\n",
    "\n",
    "    def call(self, x):\n",
    "        kernel = K.reshape(self.kernel, (1,) + tuple(self.kernel.shape))\n",
    "        return kernel\n",
    "\n",
    "    def compute_output_shape(self, input_shape):\n",
    "        return input_shape\n",
    "        \n",
    "def custom_mean_squared_error(_, content_diff):\n",
    "    return K.mean(K.square(content_diff))\n",
    "\n",
    "def gram_matrix(X):\n",
    "    _X = K.squeeze(X, 0)\n",
    "    features = K.batch_flatten(K.permute_dimensions(_X, (2, 0, 1)))\n",
    "    gram = K.dot(features, K.transpose(features))\n",
    "    return K.expand_dims(gram / K.cast(K.prod(_X.shape), 'float32'), axis=0)\n",
    "\n",
    "def preprocess_image_array(image):\n",
    "    assert np.max(image) > 1, 'Pixel values should be in the 0-255 range'\n",
    "    image = np.expand_dims(image, axis=0)\n",
    "    image = vgg19.preprocess_input(image)\n",
    "    return image\n",
    "\n",
    "def deprocess_image_array(x):\n",
    "    # Remove zero-center by mean pixel\n",
    "    x[:, :, 0] += 103.939\n",
    "    x[:, :, 1] += 116.779\n",
    "    x[:, :, 2] += 123.68\n",
    "    # 'BGR'->'RGB'\n",
    "    x = x[:, :, ::-1]\n",
    "    x = np.clip(x, 0, 255).astype('uint8')\n",
    "    return x\n",
    "\n",
    "def get_model_chunk(model, from_layer, to_layer, include_from=False):\n",
    "    model_chunk = Sequential()\n",
    "    from_to_index = [i\n",
    "                     for i, layer in enumerate(model.layers)\n",
    "                     if (layer.name.startswith(from_layer) or layer.name.startswith(to_layer))]\n",
    "    if not include_from:\n",
    "        from_to_index[0] += 1\n",
    "        \n",
    "    for layer in model.layers[from_to_index[0]:from_to_index[1] + 1]:\n",
    "        model_chunk.add(layer)\n",
    "\n",
    "    return model_chunk\n",
    "\n",
    "bgr_to_rgb = lambda x: cv2.cvtColor(x, cv2.COLOR_BGR2RGB)\n",
    "\n",
    "def get_style_gram_matrices(image):\n",
    "    input_img = Input(shape=image.shape)\n",
    "    vgg_model = vgg19.VGG19(include_top=False, weights='imagenet', input_tensor=input_img)\n",
    "    style_tsr_1_gram = Lambda(gram_matrix)(vgg_model.get_layer('block1_conv1').output)\n",
    "    style_tsr_2_gram = Lambda(gram_matrix)(vgg_model.get_layer('block2_conv1').output)\n",
    "    style_tsr_3_gram = Lambda(gram_matrix)(vgg_model.get_layer('block3_conv1').output)\n",
    "    style_tsr_4_gram = Lambda(gram_matrix)(vgg_model.get_layer('block4_conv1').output)\n",
    "    style_tsr_5_gram = Lambda(gram_matrix)(vgg_model.get_layer('block5_conv1').output)\n",
    "    model = Model(\n",
    "        inputs=input_img, \n",
    "        output=[\n",
    "            style_tsr_1_gram,\n",
    "            style_tsr_2_gram,\n",
    "            style_tsr_3_gram,\n",
    "            style_tsr_4_gram,\n",
    "            style_tsr_5_gram\n",
    "    ])\n",
    "    return model.predict_on_batch(preprocess_image_array(image))\n",
    "\n",
    "from keras.constraints import Constraint\n",
    "from keras import backend as K\n",
    "\n",
    "class WeightClip(Constraint):\n",
    "\n",
    "    def __init__(self, min_value, max_value):\n",
    "        self.min_value = min_value\n",
    "        self.max_value = max_value\n",
    "\n",
    "    def __call__(self, p):\n",
    "        return K.clip(p, self.min_value, self.max_value)\n",
    "\n",
    "def get_model(content_img, learning_rate=0.001, clip_weights=False):\n",
    "    vgg_model = vgg19.VGG19(weights='imagenet', include_top=False)\n",
    "    StyleExtractor1 = get_model_chunk(vgg_model, 'input', 'block1_conv1')\n",
    "    StyleExtractor2 = get_model_chunk(vgg_model, 'block1_conv1', 'block2_conv1')\n",
    "    StyleExtractor3 = get_model_chunk(vgg_model, 'block2_conv1', 'block3_conv1')\n",
    "    StyleExtractor4 = get_model_chunk(vgg_model, 'block3_conv1', 'block4_conv1')\n",
    "    StyleExtractor5 = get_model_chunk(vgg_model, 'block4_conv1', 'block5_conv1')\n",
    "    \n",
    "    input_img = Input(shape=content_img.shape)\n",
    "    combination_tsr = WeightsIdentity(\n",
    "        name=\"combination_tsr\",\n",
    "        weights=[np.squeeze(preprocess_image_array(content_img))],\n",
    "        kernel_constraint=WeightClip(min_value=-123.68, max_value=255 - 123.68) if clip_weights else None\n",
    "    )(input_img)\n",
    "    combination_tsr_style_1 = StyleExtractor1(combination_tsr)\n",
    "    combination_tsr_style_2 = StyleExtractor2(combination_tsr_style_1)\n",
    "    combination_tsr_style_3 = StyleExtractor3(combination_tsr_style_2)\n",
    "    combination_tsr_style_4 = StyleExtractor4(combination_tsr_style_3)\n",
    "    combination_tsr_style_5 = StyleExtractor5(combination_tsr_style_4)\n",
    "    combination_tsr_style_1_gram = Lambda(gram_matrix, name='combination_tsr_style_1_gram')(combination_tsr_style_1)\n",
    "    combination_tsr_style_2_gram = Lambda(gram_matrix, name='combination_tsr_style_2_gram')(combination_tsr_style_2)\n",
    "    combination_tsr_style_3_gram = Lambda(gram_matrix, name='combination_tsr_style_3_gram')(combination_tsr_style_3)\n",
    "    combination_tsr_style_4_gram = Lambda(gram_matrix, name='combination_tsr_style_4_gram')(combination_tsr_style_4)\n",
    "    combination_tsr_style_5_gram = Lambda(gram_matrix, name='combination_tsr_style_5_gram')(combination_tsr_style_5)\n",
    "    model = Model(\n",
    "        inputs=input_img, \n",
    "        output=[\n",
    "            combination_tsr_style_1_gram,\n",
    "            combination_tsr_style_2_gram,\n",
    "            combination_tsr_style_3_gram,\n",
    "            combination_tsr_style_4_gram,\n",
    "            combination_tsr_style_5_gram\n",
    "    ])\n",
    "    for layer in model.layers:\n",
    "        if layer.name != 'combination_tsr':\n",
    "            layer.trainable = False\n",
    "            \n",
    "    losses = {\n",
    "        'combination_tsr_style_1_gram': 'mean_squared_error',\n",
    "        'combination_tsr_style_2_gram': 'mean_squared_error',\n",
    "        'combination_tsr_style_3_gram': 'mean_squared_error',\n",
    "        'combination_tsr_style_4_gram': 'mean_squared_error',\n",
    "        'combination_tsr_style_5_gram': 'mean_squared_error'\n",
    "    }\n",
    "\n",
    "    model.compile(Adam(lr=learning_rate), loss=losses)\n",
    "    return model"
   ]
  },
  {
   "cell_type": "code",
   "execution_count": null,
   "metadata": {},
   "outputs": [],
   "source": [
    "IMAGE_SIZE_REDUCE_FACTOR = .5\n",
    "CAMERA_NUMBER = 0"
   ]
  },
  {
   "cell_type": "code",
   "execution_count": null,
   "metadata": {},
   "outputs": [],
   "source": [
    "CAMERA = cv2.VideoCapture(0)\n",
    "frame = bgr_to_rgb(CAMERA.read()[1])"
   ]
  },
  {
   "cell_type": "code",
   "execution_count": null,
   "metadata": {},
   "outputs": [],
   "source": [
    "IMG_HEIGHT, IMG_WIDTH, N_CHANNELS = frame.shape\n",
    "IMG_HEIGHT = int(IMG_HEIGHT * IMAGE_SIZE_REDUCE_FACTOR)\n",
    "IMG_WIDTH = int(IMG_WIDTH * IMAGE_SIZE_REDUCE_FACTOR)\n",
    "print((IMG_HEIGHT, IMG_WIDTH, N_CHANNELS))"
   ]
  },
  {
   "cell_type": "code",
   "execution_count": null,
   "metadata": {},
   "outputs": [],
   "source": [
    "print('Imge type (shoud be int8):', frame.dtype)\n",
    "content_img = cv2.resize(frame, (IMG_WIDTH, IMG_HEIGHT))\n",
    "print(content_img.shape)\n",
    "plt.imshow(content_img)\n",
    "plt.axis('off');"
   ]
  },
  {
   "cell_type": "code",
   "execution_count": null,
   "metadata": {},
   "outputs": [],
   "source": [
    "style_img = np.array(image.load_img('picasso_1.jpg', target_size=(IMG_HEIGHT, IMG_WIDTH, N_CHANNELS)))\n",
    "print(style_img.shape)\n",
    "print('Imge type (shoud be int8):', style_img.dtype)\n",
    "plt.imshow(style_img)\n",
    "plt.axis('off');"
   ]
  },
  {
   "cell_type": "code",
   "execution_count": null,
   "metadata": {},
   "outputs": [],
   "source": [
    "style_gram_matrices = get_style_gram_matrices(style_img)"
   ]
  },
  {
   "cell_type": "code",
   "execution_count": null,
   "metadata": {},
   "outputs": [],
   "source": [
    "from keras.callbacks import Callback\n",
    "from IPython.display import clear_output\n",
    " \n",
    "class ShowCombination(Callback):\n",
    "    def __init__(self, cv2_camera, style_img):\n",
    "        self.cv2_camera = cv2_camera\n",
    "        self.style_img = style_img\n",
    "        \n",
    "    def on_epoch_begin(self, epoch, logs={}):\n",
    "        self.content_img = bgr_to_rgb(cv2.resize(self.cv2_camera.read()[1], (IMG_WIDTH, IMG_HEIGHT)))\n",
    "        self.model.get_layer('combination_tsr').set_weights([np.squeeze(preprocess_image_array(self.content_img))])\n",
    "        \n",
    "    def on_epoch_end(self, epoch, logs={}):\n",
    "        combination_img = self.model.get_layer('combination_tsr').get_weights()[0]\n",
    "        combination_img = deprocess_image_array(combination_img)\n",
    "        clear_output()\n",
    "        plt.imshow(np.hstack((self.content_img, combination_img, self.style_img)))\n",
    "        plt.axis('off')\n",
    "        plt.title('Content' + ' ' * 50 + 'Combination' + ' ' * 50 + 'Style')\n",
    "        plt.show()"
   ]
  },
  {
   "cell_type": "code",
   "execution_count": null,
   "metadata": {},
   "outputs": [],
   "source": [
    "LEARNING_RATE = 30\n",
    "model = get_model(content_img, learning_rate=LEARNING_RATE, clip_weights=True)"
   ]
  },
  {
   "cell_type": "code",
   "execution_count": null,
   "metadata": {},
   "outputs": [],
   "source": [
    "N = 100\n",
    "\n",
    "X = np.repeat(np.expand_dims(content_img, axis=0), N, axis=0)\n",
    "y = [np.repeat(m, N, axis=0) for m in style_gram_matrices]"
   ]
  },
  {
   "cell_type": "code",
   "execution_count": null,
   "metadata": {
    "scrolled": false
   },
   "outputs": [],
   "source": [
    "EPOCHS = 5\n",
    "BATCH_SIZE = 1\n",
    "model.fit(X, y,\n",
    "          epochs=EPOCHS,\n",
    "          batch_size=BATCH_SIZE,\n",
    "          verbose=0,\n",
    "          callbacks=[ShowCombination(CAMERA, style_img)]\n",
    ")"
   ]
  },
  {
   "cell_type": "code",
   "execution_count": null,
   "metadata": {},
   "outputs": [],
   "source": [
    "# CAMERA.release()"
   ]
  },
  {
   "cell_type": "code",
   "execution_count": null,
   "metadata": {},
   "outputs": [],
   "source": [
    "combination_img = deprocess_image_array(model.get_layer('combination_tsr').get_weights()[0])\n",
    "print(combination_img.shape)\n",
    "plt.imshow(np.hstack((content_img, combination_img, style_img)))\n",
    "plt.axis('off')\n",
    "plt.title('Content' + ' ' * 50 + 'Combination' + ' ' * 50 + 'Style')\n",
    "plt.show()"
   ]
  },
  {
   "cell_type": "code",
   "execution_count": null,
   "metadata": {},
   "outputs": [],
   "source": []
  }
 ],
 "metadata": {
  "kernelspec": {
   "display_name": "Python 3",
   "language": "python",
   "name": "python3"
  },
  "language_info": {
   "codemirror_mode": {
    "name": "ipython",
    "version": 3
   },
   "file_extension": ".py",
   "mimetype": "text/x-python",
   "name": "python",
   "nbconvert_exporter": "python",
   "pygments_lexer": "ipython3",
   "version": "3.6.8"
  }
 },
 "nbformat": 4,
 "nbformat_minor": 2
}
